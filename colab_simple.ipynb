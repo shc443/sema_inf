{
 "cells": [
  {
   "cell_type": "markdown",
   "metadata": {},
   "source": [
    "# 🎯 SEMA VOC Analysis - Simple Google Colab Interface\n",
    "\n",
    "This notebook provides a simple interface for Korean Voice of Customer (VOC) sentiment analysis.\n",
    "\n",
    "## How to use:\n",
    "1. Run the setup cell\n",
    "2. Run the main processing cell\n",
    "3. Upload your Excel files when prompted\n",
    "4. Download the results"
   ]
  },
  {
   "cell_type": "markdown",
   "metadata": {},
   "source": [
    "## Step 1: Setup Environment"
   ]
  },
  {
   "cell_type": "code",
   "metadata": {},
   "outputs": [],
   "source": "# Install required packages and setup environment\nprint(\"🔧 Setting up environment...\")\n\n# Install system dependencies\n!apt-get update -qq\n!apt-get install -y openjdk-8-jdk -qq\n\n# Set Java environment for Korean language processing\nimport os\nos.environ['JAVA_HOME'] = '/usr/lib/jvm/java-8-openjdk-amd64'\n\nprint(\"✅ Java installed\")\n\n# Install Python packages (except konlpy)\n!pip install -q huggingface_hub torch transformers torchmetrics lightning\n\n# Install and test KoNLPy separately\nprint(\"📦 Installing KoNLPy...\")\n!pip install konlpy -q\n\n# Test KoNLPy installation\ntry:\n    from konlpy.tag import Kkma\n    kkma = Kkma()\n    test_result = kkma.morphs(\"테스트\")\n    print(\"✅ KoNLPy working correctly\")\nexcept Exception as e:\n    print(f\"⚠️ KoNLPy test failed: {e}\")\n    print(\"Retrying installation...\")\n    !pip install --upgrade konlpy -q\n    from konlpy.tag import Kkma\n    kkma = Kkma()\n    print(\"✅ KoNLPy working after retry\")\n\nprint(\"✅ Python packages installed\")\n\n# Clone repository\n!git clone -q https://github.com/your-username/sema_inf.git\n%cd sema_inf\n!pip install -q -e .\n\nprint(\"✅ Repository cloned and installed\")\nprint(\"🎉 Setup complete! Ready to process VOC data.\")"
  },
  {
   "cell_type": "markdown",
   "metadata": {},
   "source": [
    "## Step 2: Initialize SEMA Processor"
   ]
  },
  {
   "cell_type": "code",
   "execution_count": null,
   "metadata": {},
   "outputs": [],
   "source": [
    "# Import and initialize the SEMA CLI\n",
    "from colab_cli import SemaColabCLI\n",
    "\n",
    "print(\"🚀 Initializing SEMA VOC Analysis...\")\n",
    "print(\"This will download the AI model and data files (may take a few minutes)\")\n",
    "\n",
    "# Initialize the processor\n",
    "sema = SemaColabCLI()\n",
    "\n",
    "print(\"✅ SEMA processor ready!\")"
   ]
  },
  {
   "cell_type": "markdown",
   "metadata": {},
   "source": [
    "## Step 3: Upload and Process Files"
   ]
  },
  {
   "cell_type": "code",
   "execution_count": null,
   "metadata": {},
   "outputs": [],
   "source": [
    "# Upload your Excel files\n",
    "print(\"📤 Please upload your Excel files:\")\n",
    "print(\"Your files should have VOC1 and VOC2 columns with Korean text\")\n",
    "\n",
    "uploaded_files = sema.upload_files()\n",
    "\n",
    "if uploaded_files:\n",
    "    print(f\"\\n🔄 Processing {len(uploaded_files)} files...\")\n",
    "    print(\"This may take several minutes depending on file size...\")\n",
    "    \n",
    "    # Process all uploaded files\n",
    "    success_count = sema.process_all_files()\n",
    "    \n",
    "    if success_count > 0:\n",
    "        print(f\"\\n🎉 Successfully processed {success_count} files!\")\n",
    "        print(\"📥 Downloading results...\")\n",
    "        sema.download_results()\n",
    "        print(\"\\n✅ All done! Check your downloads folder for the results.\")\n",
    "    else:\n",
    "        print(\"❌ No files were successfully processed. Please check your input files.\")\n",
    "else:\n",
    "    print(\"❌ No files uploaded. Please run this cell again and select files.\")"
   ]
  },
  {
   "cell_type": "markdown",
   "metadata": {},
   "source": [
    "## Step 4: Check Status (Optional)"
   ]
  },
  {
   "cell_type": "code",
   "execution_count": null,
   "metadata": {},
   "outputs": [],
   "source": [
    "# Check processing status\n",
    "import os\n",
    "import torch\n",
    "\n",
    "input_files = [f for f in os.listdir('data/input') if f.endswith('.xlsx')]\n",
    "output_files = [f for f in os.listdir('data/output') if f.endswith('.xlsx')]\n",
    "\n",
    "print(\"📊 Processing Status:\")\n",
    "print(f\"📁 Input files: {len(input_files)}\")\n",
    "for f in input_files:\n",
    "    print(f\"   - {f}\")\n",
    "\n",
    "print(f\"\\n📁 Output files: {len(output_files)}\")\n",
    "for f in output_files:\n",
    "    print(f\"   - {f}\")\n",
    "\n",
    "print(f\"\\n🖥️ GPU available: {torch.cuda.is_available()}\")\n",
    "if torch.cuda.is_available():\n",
    "    print(f\"GPU name: {torch.cuda.get_device_name(0)}\")"
   ]
  },
  {
   "cell_type": "markdown",
   "metadata": {},
   "source": [
    "## Step 5: Download Results Again (If Needed)"
   ]
  },
  {
   "cell_type": "code",
   "execution_count": null,
   "metadata": {},
   "outputs": [],
   "source": [
    "# Download results again if needed\n",
    "sema.download_results()"
   ]
  },
  {
   "cell_type": "markdown",
   "metadata": {},
   "source": [
    "## Interactive Mode (Advanced)"
   ]
  },
  {
   "cell_type": "code",
   "execution_count": null,
   "metadata": {},
   "outputs": [],
   "source": [
    "# Run interactive CLI mode\n",
    "sema.run_interactive()"
   ]
  },
  {
   "cell_type": "markdown",
   "metadata": {},
   "source": [
    "---\n",
    "\n",
    "## 📋 Instructions for Your Clients\n",
    "\n",
    "### Input File Format\n",
    "Your Excel files should have these columns:\n",
    "- **VOC1**: First voice of customer text (Korean)\n",
    "- **VOC2**: Second voice of customer text (Korean) [optional]\n",
    "- Other columns will be preserved in the output\n",
    "\n",
    "### Output File Format\n",
    "The processed files will have additional columns:\n",
    "- **VOC**: Cleaned text\n",
    "- **pred**: Predicted labels\n",
    "- **topic**: Extracted topic\n",
    "- **sentiment**: Sentiment analysis result\n",
    "- **keyword**: Extracted keywords\n",
    "\n",
    "### Tips\n",
    "- 🚀 **GPU**: Make sure to use GPU runtime (Runtime → Change runtime type → GPU)\n",
    "- 📊 **File Size**: Larger files will take longer to process\n",
    "- 💾 **Memory**: If you get memory errors, restart runtime and try again\n",
    "- 📱 **Multiple Files**: You can upload and process multiple files at once\n",
    "\n",
    "### Troubleshooting\n",
    "- If setup fails, restart runtime and run cells again\n",
    "- If processing fails, check that your Excel files have VOC1/VOC2 columns\n",
    "- If download fails, run the download cell again\n"
   ]
  }
 ],
 "metadata": {
  "kernelspec": {
   "display_name": "Python 3",
   "language": "python",
   "name": "python3"
  },
  "language_info": {
   "codemirror_mode": {
    "name": "ipython",
    "version": 3
   },
   "file_extension": ".py",
   "mimetype": "text/x-python",
   "name": "python",
   "nbconvert_exporter": "python",
   "pygments_lexer": "ipython3",
   "version": "3.7.12"
  }
 },
 "nbformat": 4,
 "nbformat_minor": 4
}