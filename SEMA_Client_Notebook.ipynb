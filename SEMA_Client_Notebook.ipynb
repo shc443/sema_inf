{
 "cells": [
  {
   "cell_type": "markdown",
   "metadata": {},
   "source": "# 🎯 SEMA VOC Analysis\n\nKorean Voice of Customer Sentiment Analysis\n\n## Instructions:\n1. Set runtime to **GPU** (Runtime → Change runtime type → GPU)\n2. Run Setup cell (required after restarts)\n3. Upload Excel files to input folder\n4. **Click ONE button** to process all files and download results\n\n## File Requirements:\n- Excel files with **VOC1** and **VOC2** columns\n- Korean text content",
   "outputs": []
  },
  {
   "cell_type": "markdown",
   "metadata": {},
   "source": "## 🔧 Setup (Run after restarts)",
   "outputs": []
  },
  {
   "cell_type": "code",
   "metadata": {},
   "outputs": [],
   "source": "print(\"🔧 Setting up SEMA environment...\")\n\n# Install system dependencies\n!apt-get update -qq && apt-get install -y openjdk-8-jdk -qq\n\n# Set Java environment\nimport os\nos.environ['JAVA_HOME'] = '/usr/lib/jvm/java-8-openjdk-amd64'\n\n# Install packages (including psutil for monitoring)\n!pip install -q \"huggingface_hub>=0.16.0\" \"torch>=2.0.0\" \"transformers>=4.30.0,<5.0.0\" \"torchmetrics>=0.11.0\" \"lightning>=2.0.0\" konlpy psutil\n\n# Setup repository\n!git clone -q https://github.com/shc443/sema_inf.git\n%cd sema_inf\n!pip install -q -e .\n\n# Check GPU\nimport torch\nif torch.cuda.is_available():\n    print(f\"🚀 GPU: {torch.cuda.get_device_name(0)}\")\n    print(f\"   Memory: {torch.cuda.get_device_properties(0).total_memory/1024**3:.1f}GB\")\nelse:\n    print(\"⚠️ No GPU - change runtime to GPU for faster processing\")\n\n# Test system monitoring\ntry:\n    import psutil\n    print(f\"🖥️ System: CPU={psutil.cpu_count()} cores, RAM={psutil.virtual_memory().total/1024**3:.1f}GB\")\n    print(\"✅ Monitoring system ready\")\nexcept:\n    print(\"⚠️ Monitoring system not available\")\n\nprint(\"✅ Setup complete!\")",
   "execution_count": null
  },
  {
   "cell_type": "markdown",
   "metadata": {},
   "source": "## 📁 Upload Files to Input Folder",
   "outputs": []
  },
  {
   "cell_type": "code",
   "metadata": {},
   "outputs": [],
   "source": "from colab_cli import SemaColabCLI\nimport os\n\nprint(\"🚀 Initializing SEMA...\")\nsema = SemaColabCLI()\n\n# Create input/output directories if they don't exist\nos.makedirs('data/input', exist_ok=True)\nos.makedirs('data/output', exist_ok=True)\n\nprint(\"📁 Upload your Excel files (with VOC1/VOC2 columns):\")\nprint(\"Files will be saved to input folder for processing.\")\nuploaded_files = sema.upload_files()\n\nif uploaded_files:\n    print(f\"✅ Uploaded {len(uploaded_files)} files to input folder!\")\n    print(\"📂 Files ready for processing. Run the next cell to process all files.\")\nelse:\n    print(\"❌ No files uploaded.\")",
   "execution_count": null
  },
  {
   "cell_type": "markdown",
   "metadata": {},
   "source": "## 📊 Check Status",
   "outputs": []
  },
  {
   "cell_type": "markdown",
   "source": "# Import safe processing system\nfrom colab_safe_processor import run_safe_processing\n\n# Run complete processing with timeout and error monitoring\nprint(\"🚀 Starting Safe Automated Processing...\")\nprint(\"⏰ Each file has 15-minute timeout protection\")\nprint(\"📊 Progress will be monitored and logged\")\nprint(\"🚨 Errors will be saved to logs/errors/ folder\")\nprint()\n\n# Process all files with full safety monitoring\nsuccess = run_safe_processing()\n\nif success:\n    print(\"\\n🎉 ALL PROCESSING COMPLETED SUCCESSFULLY!\")\n    print(\"📥 Results have been automatically downloaded\")\n    print(\"✅ Check your Downloads folder for the output files\")\nelse:\n    print(\"\\n❌ Processing failed or incomplete\")\n    print(\"🔍 Check the logs above for details\")\n    print(\"💡 Try restarting runtime if GPU issues occurred\")",
   "metadata": {}
  },
  {
   "cell_type": "code",
   "source": "## 📊 Check Status & Files",
   "metadata": {},
   "execution_count": null,
   "outputs": []
  },
  {
   "cell_type": "code",
   "metadata": {},
   "outputs": [],
   "source": "import os\nimport torch\n\ninput_files = [f for f in os.listdir('data/input') if f.endswith('.xlsx')]\noutput_files = [f for f in os.listdir('data/output') if f.endswith('.xlsx')]\n\nprint(f\"📁 Input: {len(input_files)} files\")\nprint(f\"📁 Output: {len(output_files)} files\")\nprint(f\"🖥️ GPU: {torch.cuda.is_available()}\")"
  },
  {
   "cell_type": "markdown",
   "metadata": {},
   "source": "## 📥 Download Results Again",
   "outputs": []
  },
  {
   "cell_type": "code",
   "execution_count": null,
   "metadata": {},
   "outputs": [],
   "source": "# Download results again (if needed)\ntry:\n    sema.download_results()\n    print(\"✅ All output files downloaded!\")\nexcept NameError:\n    # If sema not initialized, initialize and download\n    from colab_cli import SemaColabCLI\n    sema = SemaColabCLI()\n    sema.download_results()\n    print(\"✅ All output files downloaded!\")"
  },
  {
   "cell_type": "markdown",
   "metadata": {},
   "source": "## 🆘 Troubleshooting & Safety Features\n\n**New Safety Features:**\n- ⏰ **15-minute timeout** per file (prevents hanging)\n- 📊 **Real-time monitoring** of CPU, RAM, and GPU usage\n- 🚨 **Automatic error reporting** saved to logs/errors/\n- 🛡️ **Process recovery** with detailed status logging\n- 🧹 **Automatic cleanup** of GPU memory on errors\n\n**Common Issues:**\n1. **No GPU**: Runtime → Change runtime type → GPU\n2. **Processing hangs**: Automatic timeout will stop and report the issue\n3. **Memory error**: GPU memory will be automatically cleared\n4. **Setup failed**: Restart runtime and run setup again\n5. **Timeout occurred**: Check logs/errors/ folder for detailed report\n\n**Error Logs Location:**\n- 📁 **logs/**: Processing logs with timestamps\n- 🚨 **logs/errors/**: Detailed error reports in JSON format\n\n**Output Format:**\n- Original columns preserved\n- **VOC**: Cleaned text\n- **topic**: Extracted topics  \n- **sentiment**: Positive/negative analysis\n- **keyword**: Key extracted words\n\n**If Problems Persist:**\n1. Restart Colab runtime (Runtime → Restart runtime)\n2. Process files in smaller batches\n3. Check error reports in logs/errors/ folder\n4. Verify Excel files have VOC1/VOC2 columns with Korean text",
   "outputs": []
  }
 ],
 "metadata": {
  "kernelspec": {
   "display_name": "Python 3",
   "language": "python",
   "name": "python3"
  },
  "language_info": {
   "codemirror_mode": {
    "name": "ipython",
    "version": 3
   },
   "file_extension": ".py",
   "mimetype": "text/x-python",
   "name": "python",
   "nbconvert_exporter": "python",
   "pygments_lexer": "ipython3",
   "version": "3.7.12"
  }
 },
 "nbformat": 4,
 "nbformat_minor": 4
}