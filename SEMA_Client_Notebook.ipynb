{
 "cells": [
  {
   "cell_type": "markdown",
   "metadata": {},
   "source": [
    "# 🎯 SEMA VOC Analysis - Client Interface\n",
    "\n",
    "## Korean Voice of Customer Sentiment Analysis\n",
    "\n",
    "### Instructions:\n",
    "1. **Run the Setup cell below** (one time only)\n",
    "2. **Run the Processing cell** \n",
    "3. **Upload your Excel files** when prompted\n",
    "4. **Download results** automatically\n",
    "\n",
    "### File Requirements:\n",
    "- Excel files (.xlsx) with **VOC1** and **VOC2** columns\n",
    "- Korean text in the VOC columns\n",
    "- No special formatting required\n",
    "\n",
    "---"
   ]
  },
  {
   "cell_type": "markdown",
   "metadata": {},
   "source": [
    "## 🔧 Step 1: Setup (Run Once)\n",
    "\n",
    "**Important**: Make sure to set your runtime to **GPU** first!\n",
    "- Go to: **Runtime** → **Change runtime type** → **GPU**"
   ]
  },
  {
   "cell_type": "code",
   "metadata": {},
   "outputs": [],
   "source": "# ===== SETUP ENVIRONMENT =====\nprint(\"🔧 Setting up SEMA VOC Analysis environment...\")\nprint(\"This may take 2-3 minutes on first run.\")\n\n# Install system dependencies\n!apt-get update -qq\n!apt-get install -y openjdk-8-jdk -qq\n\n# Set Java environment for Korean language processing\nimport os\nos.environ['JAVA_HOME'] = '/usr/lib/jvm/java-8-openjdk-amd64'\nprint(\"✅ Java installed\")\n\n# Install Python packages with compatible versions\n!pip install -q \"huggingface_hub>=0.16.0\" \"torch>=2.0.0\" \"transformers>=4.30.0,<5.0.0\" \"torchmetrics>=0.11.0\" \"lightning>=2.0.0\"\n\n# Install and test KoNLPy for Korean text processing\nprint(\"📦 Installing Korean language processor...\")\n!pip install konlpy -q\n\n# Test Korean language processing\ntry:\n    from konlpy.tag import Kkma\n    kkma = Kkma()\n    test_result = kkma.morphs(\"테스트\")\n    print(\"✅ Korean language processor working\")\nexcept Exception as e:\n    print(f\"⚠️ Retrying Korean language setup: {e}\")\n    !pip install --upgrade konlpy -q\n    from konlpy.tag import Kkma\n    kkma = Kkma()\n    print(\"✅ Korean language processor ready\")\n\nprint(\"✅ Python packages installed\")\n\n# Clone the SEMA repository\n!git clone -q https://github.com/shc443/sema_inf.git\n%cd sema_inf\n!pip install -q -e .\n\nprint(\"✅ Repository installed\")\nprint(\"🎉 Setup complete! Ready to process VOC data.\")\n\n# Check GPU availability\nimport torch\nif torch.cuda.is_available():\n    print(f\"🚀 GPU available: {torch.cuda.get_device_name(0)}\")\nelse:\n    print(\"⚠️ GPU not available - please change runtime to GPU for faster processing\")"
  },
  {
   "cell_type": "markdown",
   "metadata": {},
   "source": [
    "## 📤 Step 2: Process Your Files\n",
    "\n",
    "Run this cell to upload and process your Excel files:"
   ]
  },
  {
   "cell_type": "code",
   "execution_count": null,
   "metadata": {},
   "outputs": [],
   "source": [
    "# ===== PROCESS VOC FILES =====\n",
    "from colab_cli import SemaColabCLI\n",
    "\n",
    "print(\"🚀 Initializing SEMA VOC Analysis...\")\n",
    "print(\"Downloading AI model (this may take a few minutes on first run)...\")\n",
    "\n",
    "# Initialize the processor (auto-downloads model from HuggingFace)\n",
    "sema = SemaColabCLI()\n",
    "\n",
    "print(\"\\n📤 Please upload your Excel files:\")\n",
    "print(\"Your files should have VOC1 and VOC2 columns with Korean text\")\n",
    "print(\"You can select multiple files at once.\")\n",
    "\n",
    "# Upload files\n",
    "uploaded_files = sema.upload_files()\n",
    "\n",
    "if uploaded_files:\n",
    "    print(f\"\\n🔄 Processing {len(uploaded_files)} files...\")\n",
    "    print(\"⏳ This may take several minutes depending on file size...\")\n",
    "    \n",
    "    # Process all uploaded files\n",
    "    success_count = sema.process_all_files()\n",
    "    \n",
    "    if success_count > 0:\n",
    "        print(f\"\\n🎉 Successfully processed {success_count} files!\")\n",
    "        print(\"📥 Downloading results...\")\n",
    "        sema.download_results()\n",
    "        print(\"\\n✅ COMPLETE! Check your downloads folder for the results.\")\n",
    "        print(\"\\n📋 Output files contain:\")\n",
    "        print(\"   - VOC: Cleaned text\")\n",
    "        print(\"   - topic: Extracted topic\")\n",
    "        print(\"   - sentiment: Sentiment analysis\")\n",
    "        print(\"   - keyword: Extracted keywords\")\n",
    "    else:\n",
    "        print(\"❌ Processing failed. Please check your input files have VOC1/VOC2 columns.\")\n",
    "else:\n",
    "    print(\"❌ No files uploaded. Please run this cell again and select files.\")"
   ]
  },
  {
   "cell_type": "markdown",
   "metadata": {},
   "source": [
    "## 📊 Step 3: Check Status (Optional)\n",
    "\n",
    "Run this to see processing status:"
   ]
  },
  {
   "cell_type": "code",
   "execution_count": null,
   "metadata": {},
   "outputs": [],
   "source": [
    "# ===== CHECK STATUS =====\n",
    "import os\n",
    "import torch\n",
    "\n",
    "input_files = [f for f in os.listdir('data/input') if f.endswith('.xlsx')]\n",
    "output_files = [f for f in os.listdir('data/output') if f.endswith('.xlsx')]\n",
    "\n",
    "print(\"📊 Processing Status:\")\n",
    "print(f\"📁 Input files: {len(input_files)}\")\n",
    "for f in input_files:\n",
    "    print(f\"   - {f}\")\n",
    "\n",
    "print(f\"\\n📁 Output files: {len(output_files)}\")\n",
    "for f in output_files:\n",
    "    print(f\"   - {f}\")\n",
    "\n",
    "print(f\"\\n🖥️ GPU available: {torch.cuda.is_available()}\")\n",
    "if torch.cuda.is_available():\n",
    "    print(f\"GPU: {torch.cuda.get_device_name(0)}\")"
   ]
  },
  {
   "cell_type": "markdown",
   "metadata": {},
   "source": [
    "## 📥 Step 4: Download Results Again (If Needed)\n",
    "\n",
    "If you need to download the results again:"
   ]
  },
  {
   "cell_type": "code",
   "execution_count": null,
   "metadata": {},
   "outputs": [],
   "source": [
    "# ===== DOWNLOAD RESULTS AGAIN =====\n",
    "sema.download_results()"
   ]
  },
  {
   "cell_type": "markdown",
   "metadata": {},
   "source": [
    "---\n",
    "\n",
    "## 🆘 Troubleshooting\n",
    "\n",
    "### Common Issues:\n",
    "\n",
    "1. **\"No GPU available\"**\n",
    "   - Go to Runtime → Change runtime type → GPU\n",
    "   - Restart runtime and run setup again\n",
    "\n",
    "2. **\"Processing failed\"**\n",
    "   - Check that your Excel files have VOC1 and VOC2 columns\n",
    "   - Make sure the columns contain Korean text\n",
    "\n",
    "3. **\"Memory error\"**\n",
    "   - Your file might be too large\n",
    "   - Try processing smaller files first\n",
    "   - Restart runtime and try again\n",
    "\n",
    "4. **\"Setup failed\"**\n",
    "   - Restart runtime (Runtime → Restart runtime)\n",
    "   - Run the setup cell again\n",
    "\n",
    "### Need Help?\n",
    "- Make sure you've set runtime to GPU\n",
    "- Try with a smaller test file first\n",
    "- Restart runtime if you encounter errors\n",
    "\n",
    "---\n",
    "\n",
    "## 📋 File Format Guide\n",
    "\n",
    "### Input Files Should Have:\n",
    "- **VOC1**: Korean customer feedback text\n",
    "- **VOC2**: Additional Korean feedback text (optional)\n",
    "- Other columns will be preserved in output\n",
    "\n",
    "### Output Files Will Have:\n",
    "- **All original columns**\n",
    "- **VOC**: Cleaned and processed text\n",
    "- **pred**: AI predictions\n",
    "- **topic**: Extracted topic categories\n",
    "- **sentiment**: Sentiment analysis (positive/negative)\n",
    "- **keyword**: Key words extracted from text\n",
    "\n",
    "---\n",
    "\n",
    "*Powered by SEMA AI - Korean VOC Analysis System*"
   ]
  }
 ],
 "metadata": {
  "kernelspec": {
   "display_name": "Python 3",
   "language": "python",
   "name": "python3"
  },
  "language_info": {
   "codemirror_mode": {
    "name": "ipython",
    "version": 3
   },
   "file_extension": ".py",
   "mimetype": "text/x-python",
   "name": "python",
   "nbconvert_exporter": "python",
   "pygments_lexer": "ipython3",
   "version": "3.7.12"
  }
 },
 "nbformat": 4,
 "nbformat_minor": 4
}